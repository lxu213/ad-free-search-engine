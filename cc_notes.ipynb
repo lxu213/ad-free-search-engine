{
 "cells": [
  {
   "cell_type": "markdown",
   "metadata": {
    "collapsed": true
   },
   "source": [
    "# Notes, Links, Code Snippets During Common Crawl Data Processing"
   ]
  },
  {
   "cell_type": "code",
   "execution_count": 3,
   "metadata": {
    "collapsed": true
   },
   "outputs": [],
   "source": [
    "# import libraries\n",
    "\n",
    "import numpy as np\n",
    "import pandas as pd\n",
    "import pyarrow.parquet as pq"
   ]
  },
  {
   "cell_type": "markdown",
   "metadata": {},
   "source": [
    "### Links\n",
    "\n",
    "Example Repo: https://github.com/commoncrawl/cc-pyspark\n",
    "\n",
    "Common Crawl Format Example: https://gist.github.com/Smerity/e750f0ef0ab9aa366558#file-bbc-warc\n",
    "\n",
    "Configure EMR to run a pyspark job using Python: https://aws.amazon.com/premiumsupport/knowledge-center/emr-pyspark-python-3x/\n",
    "\n",
    "Apache PySpark Documentation: https://spark.apache.org/docs/latest/api/python/pyspark.html#pyspark.SparkContext\n",
    "\n",
    "PySpark Cheat Sheet: Spark in Python: https://www.datacamp.com/community/blog/pyspark-cheat-sheet-python\n",
    "\n",
    "PySpark Tutorial-Learn to use Apache Spark with Python: https://www.dezyre.com/apache-spark-tutorial/pyspark-tutorial\n",
    "\n",
    "Apache Spark: Python Programming Guide: https://spark.apache.org/docs/0.9.0/python-programming-guide.html\n",
    "\n",
    "Open Source Search Engines in Python: http://pythonsource.com/open-source/search-engines\n",
    "\n",
    "Implementing a Search Engine with Ranking in Python: http://aakashjapi.com/fuckin-search-engines-how-do-they-work/\n"
   ]
  },
  {
   "cell_type": "markdown",
   "metadata": {},
   "source": [
    "### Bash Scripts"
   ]
  },
  {
   "cell_type": "markdown",
   "metadata": {
    "collapsed": true
   },
   "source": [
    "Point the environment variable SPARK_HOME to your Spark installation"
   ]
  },
  {
   "cell_type": "code",
   "execution_count": null,
   "metadata": {
    "collapsed": true
   },
   "outputs": [],
   "source": [
    "$ export SPARK_HOME=\"/Users/lxu213/spark/\""
   ]
  },
  {
   "cell_type": "markdown",
   "metadata": {
    "collapsed": true
   },
   "source": [
    "Submit example job to spark"
   ]
  },
  {
   "cell_type": "code",
   "execution_count": null,
   "metadata": {
    "collapsed": true
   },
   "outputs": [],
   "source": [
    "$ $SPARK_HOME/bin/spark-submit ./server_count.py \\ --num_output_partitions 1 --log_level WARN \\ ./input/test_warc.txt servernames"
   ]
  },
  {
   "cell_type": "markdown",
   "metadata": {},
   "source": [
    "ReadWARC: Assuming that you have the aws command line tools installed, you can list the contents of a crawl using:"
   ]
  },
  {
   "cell_type": "code",
   "execution_count": null,
   "metadata": {
    "collapsed": true
   },
   "outputs": [],
   "source": [
    "$ aws s3 ls s3://commoncrawl/crawl-data/CC-MAIN-2014-10/ --recursive | head -6"
   ]
  },
  {
   "cell_type": "markdown",
   "metadata": {},
   "source": [
    "Copy one segment to local using:"
   ]
  },
  {
   "cell_type": "code",
   "execution_count": null,
   "metadata": {
    "collapsed": true
   },
   "outputs": [],
   "source": [
    "$ aws s3 cp s3://commoncrawl/crawl-data/CC-MAIN-2014-10/segments/1394023864559/warc/CC-MAIN-20140305125104-00002-ip-10-183-142-35.ec2.internal.warc.gz ."
   ]
  },
  {
   "cell_type": "markdown",
   "metadata": {},
   "source": [
    "### Notes\n",
    "\n",
    "SparkContext = Main entry point for Spark functionality. A SparkContext represents the connection to a Spark cluster, and can be used to create RDDs, accumulators and broadcast variables on that cluster. \n",
    "\n",
    "SQLContext = The entry point for working with structured data (rows and columns) in Spark. Allows the creation of DataFrame objects as well as the execution of SQL queries. "
   ]
  },
  {
   "cell_type": "markdown",
   "metadata": {},
   "source": [
    "Resilient Distributed Datasets are Apache Spark’s data abstraction, and the features they are built and implemented with are responsible for their significant speed. More about RDDs below:\n",
    "\n",
    "1. RDDs are read-only, partitioned data stores, which are distributed across many machines (typically on a cluster)\n",
    "2. RDDs can be invoked within Spark through Pyspark, Spark SQL or Spark Scala. Data which is ingested, or exists on the disk on the Linux file system or on the Hadoop Distributed File System (HDFS) can be taken and converted to a distributed dataset.\n",
    "3. The key reasons RDDs are an abstraction that works better for distributed data processing, is because they don’t feature some of the issues that MapReduce, the older paradigm for data processing (which Spark is replacing increasingly). Chiefly, these are:\n",
    "    - Replication: Replication of data on different parts of a cluster, is a feature of HDFS that enables data to be stored in a fault-tolerant manner. Spark’s RDDs address fault tolerance by using a lineage graph. The different name (resilient, as opposed to replicated) indicates this difference of implementation in the core functionality of Spark\n",
    "    - Serialization: Serialization in MapReduce bogs it down, speed wise, in operations like shuffling and sorting.\n",
    "    - Disk IO : One of the most computationally expensive operations is writing files to disk and reading them again, and this kind of Disk input-output impacts the performance of big compute jobs. Although Apache Spark can cache and persist RDDs to save time during in-memory computation, it is primarily an in-memory processing engine that depends on cheap access to RAM (which differs from the “commodity hardware” argument that’s made for Hadoop). Disk IO is expensive and time consuming in “big compute” jobs (as opposed to “big data”, which refers to large data set storage and handling). At every stage of a map or reduce step in MapReduce, there is Disk IO, which is avoided because Spark’s resource manager and optimiser allow for fine-grained control over scheduling and resilient processing.\n",
    "    - Optimisation and Lazy Evaluation: These are mentioned together since lazy evaluation (a la Scala) allows a sequence of transformations to be performed on RDDs without actually spending compute time on them. Spark natively represents these transformations as a Directed Acyclic Graph (DAG) and Spark’s Catalyst Optimizer allows such computational graphs to be optimised and staged appropriately, based on the memory settings. Spark’s native resource manager is capable of handling various tasks by itself in conjunction with a file system, but Spark also integrates with existing resource managers in Hadoop based file systems (such as YARN)."
   ]
  },
  {
   "cell_type": "markdown",
   "metadata": {},
   "source": [
    "\n",
    "Reading WARC Records\n",
    "\n",
    "A key feature of the library is to be able to iterate over a stream of WARC records using the ArchiveIterator\n",
    "\n",
    "It includes the following features: - Reading a WARC/ARC stream - On the fly ARC to WARC record conversion - Decompressing and de-chunking HTTP payload content stored in WARC/ARC files.\n",
    "\n",
    "For example, the following prints the the url for each WARC response record:\n",
    "\n",
    "from warcio.archiveiterator import ArchiveIterator\n",
    "\n",
    "with open('path/to/file', 'rb') as stream:\n",
    "    for record in ArchiveIterator(stream):\n",
    "        if record.rec_type == 'response':\n",
    "            print(record.rec_headers.get_header('WARC-Target-URI'))\n",
    "\n",
    "The stream object could be a file on disk or a remote network stream. The ArchiveIterator reads the WARC content in a single pass. The record is represented by an ArcWarcRecord object which contains the format (ARC or WARC), record type, the record headers, http headers (if any), and raw stream for reading the payload.\n",
    "\n",
    "class ArcWarcRecord(object):\n",
    "    def __init__(self, *args):\n",
    "        (self.format, self.rec_type, self.rec_headers, self.raw_stream,\n",
    "         self.http_headers, self.content_type, self.length) = args"
   ]
  },
  {
   "cell_type": "markdown",
   "metadata": {},
   "source": [
    "### Running Questions\n",
    "1. \"The key reasons RDDs are an abstraction that works better for distributed data processing, is because they don’t feature some of the issues that MapReduce\" ... MR is a strategy that can also be used in Spark?"
   ]
  },
  {
   "cell_type": "markdown",
   "metadata": {},
   "source": [
    "### Extract Keywords Python Function\n",
    "\n",
    "Inherits from `CCSparkJob` and can run locally"
   ]
  },
  {
   "cell_type": "code",
   "execution_count": 29,
   "metadata": {
    "collapsed": true
   },
   "outputs": [],
   "source": [
    "# TODO: incorporate more robust search engine index\n",
    "# TODO: more robust adlink detection. "
   ]
  },
  {
   "cell_type": "code",
   "execution_count": null,
   "metadata": {
    "collapsed": true
   },
   "outputs": [],
   "source": [
    "# run extract_keyword.py in shell\n",
    "$ cd data/ad-free-search-engine\n",
    "$ python extract_keyword.py input/test_wat.txt output"
   ]
  },
  {
   "cell_type": "code",
   "execution_count": 36,
   "metadata": {
    "collapsed": false
   },
   "outputs": [],
   "source": [
    "# extract links wat \n",
    "parquet_path = '/Users/lxu213/data/cc-pyspark-master/spark-warehouse/word_count_output/part-00009-564210ad-3e62-4dc7-96b9-f127908a22c8-c000.snappy.parquet'\n",
    "table_wat = pq.read_table(parquet_path, nthreads=4).to_pandas()\n"
   ]
  },
  {
   "cell_type": "code",
   "execution_count": 51,
   "metadata": {
    "collapsed": false
   },
   "outputs": [
    {
     "data": {
      "text/plain": [
       "array([u'', u'Careers', u'Moms &amp; Babies', u'ricerca', u'Style',\n",
       "       u'teens', u'Audio', u'Europe', u'Middle East', u'Cornwall',\n",
       "       u'Manchester', u'Magazine', u'The Ashes', u'Southampton', u'USPGA',\n",
       "       u'Saints & Angels', u\"Results for 'fleecing'\", u'US', u'us',\n",
       "       u'international', u'spanish', u'Fashion', u'education',\n",
       "       u'entertainment', u'Entertainment', u'innovations',\n",
       "       u'Neighborhood News', u'/', u'Zuigflessen', u'Press Releases',\n",
       "       u'Vino rosso', u'Blog'], dtype=object)"
      ]
     },
     "execution_count": 51,
     "metadata": {},
     "output_type": "execute_result"
    }
   ],
   "source": [
    "# extract keywords\n",
    "kw_path = '/Users/lxu213/data/ad-free-search-engine/spark-warehouse/output_features/part-00000-34ccb7a1-4cbe-413d-bb91-165ea931b1f8-c000.snappy.parquet'\n",
    "data = pq.read_table(kw_path, nthreads=4).to_pandas()\n",
    "data['section'].unique()"
   ]
  },
  {
   "cell_type": "code",
   "execution_count": 55,
   "metadata": {
    "collapsed": false
   },
   "outputs": [
    {
     "data": {
      "text/plain": [
       "103"
      ]
     },
     "execution_count": 55,
     "metadata": {},
     "output_type": "execute_result"
    }
   ],
   "source": [
    "url = 'https://www.huffingtonpost.com/.../jacob-comfort-dog-parkland-shooting_us_5a85bc'\n",
    "url = 'http://gradestack.com/Complete-CAT-Prep/If-b-be-the-pth-term-of-a/1'\n",
    "len(url)\n",
    "\n",
    "description = 'As a Marine dog handler, Jose is a perpetual outsider, assigned to platoons that have been together for years, tight-knit combat brotherhoods that regard newcomers, especially dog handlers, with a high degree of circumspection. His job is to accompany that platoon, to clear a path through hostile territory for his fellow'\n",
    "len(description)\n",
    "\n",
    "title = 'It&#8217;s Finally Happening: America Will Get a Cat Cafe   '\n",
    "len(title)\n",
    "\n",
    "descrip_line = 'Practice complete test of topic Advanced-2 inside chapter Sequence and Series. This chapter is part of '\n",
    "len(descrip_line)"
   ]
  },
  {
   "cell_type": "code",
   "execution_count": 29,
   "metadata": {
    "collapsed": false
   },
   "outputs": [
    {
     "data": {
      "text/plain": [
       "'http://www.flowerpictures...'"
      ]
     },
     "execution_count": 29,
     "metadata": {},
     "output_type": "execute_result"
    }
   ],
   "source": [
    "url[:25] + '...'"
   ]
  },
  {
   "cell_type": "code",
   "execution_count": null,
   "metadata": {
    "collapsed": true
   },
   "outputs": [],
   "source": [
    "trips_wkd_rain = trips.loc[(trips['DoW'].isin([5,6])) & trips['PRCP'] != 0] "
   ]
  },
  {
   "cell_type": "code",
   "execution_count": 43,
   "metadata": {
    "collapsed": false
   },
   "outputs": [
    {
     "data": {
      "text/plain": [
       "['hot', 'dog']"
      ]
     },
     "execution_count": 43,
     "metadata": {},
     "output_type": "execute_result"
    }
   ],
   "source": [
    "query = 'hot dog'\n",
    "query.lower().split()"
   ]
  },
  {
   "cell_type": "code",
   "execution_count": 36,
   "metadata": {
    "collapsed": false
   },
   "outputs": [
    {
     "data": {
      "text/html": [
       "<div>\n",
       "<style scoped>\n",
       "    .dataframe tbody tr th:only-of-type {\n",
       "        vertical-align: middle;\n",
       "    }\n",
       "\n",
       "    .dataframe tbody tr th {\n",
       "        vertical-align: top;\n",
       "    }\n",
       "\n",
       "    .dataframe thead th {\n",
       "        text-align: right;\n",
       "    }\n",
       "</style>\n",
       "<table border=\"1\" class=\"dataframe\">\n",
       "  <thead>\n",
       "    <tr style=\"text-align: right;\">\n",
       "      <th></th>\n",
       "      <th>url</th>\n",
       "      <th>description</th>\n",
       "    </tr>\n",
       "  </thead>\n",
       "  <tbody>\n",
       "    <tr>\n",
       "      <th>30094</th>\n",
       "      <td>http://short-movies-animation.blogspot.com/201...</td>\n",
       "      <td>Lily and the Snowman,   vagotanulo 2016, Short...</td>\n",
       "    </tr>\n",
       "    <tr>\n",
       "      <th>40776</th>\n",
       "      <td>http://www.backyardgardener.com/forums/showthr...</td>\n",
       "      <td>I have around 100 Blood Lily (Haemanthus multi...</td>\n",
       "    </tr>\n",
       "    <tr>\n",
       "      <th>47467</th>\n",
       "      <td>http://www.courtsystem.org/lily-ky-courts/</td>\n",
       "      <td>Search Lily court records to access free publi...</td>\n",
       "    </tr>\n",
       "    <tr>\n",
       "      <th>54005</th>\n",
       "      <td>http://www.flirtic.ee/polls/music/d5259a7d-4d2...</td>\n",
       "      <td></td>\n",
       "    </tr>\n",
       "    <tr>\n",
       "      <th>54068</th>\n",
       "      <td>http://www.flowerpictures1.com/r-lily-flowers-...</td>\n",
       "      <td>Free picture of Big Lily Flower Tattoo, Big Li...</td>\n",
       "    </tr>\n",
       "    <tr>\n",
       "      <th>54072</th>\n",
       "      <td>http://www.flowerpictures1.com/r-lily-flowers-...</td>\n",
       "      <td>Free picture of Big Lily Flower Tattoo, Big Li...</td>\n",
       "    </tr>\n",
       "    <tr>\n",
       "      <th>54076</th>\n",
       "      <td>http://www.flowerpictures1.com/r-lily-flowers-...</td>\n",
       "      <td>Free picture of Big Lily Flower Tattoo, Big Li...</td>\n",
       "    </tr>\n",
       "    <tr>\n",
       "      <th>69405</th>\n",
       "      <td>http://www.nbcchicago.com/news/sports/Sochi-Wi...</td>\n",
       "      <td>After helping the U.S. sweep the Olympics slop...</td>\n",
       "    </tr>\n",
       "  </tbody>\n",
       "</table>\n",
       "</div>"
      ],
      "text/plain": [
       "                                                     url  \\\n",
       "30094  http://short-movies-animation.blogspot.com/201...   \n",
       "40776  http://www.backyardgardener.com/forums/showthr...   \n",
       "47467         http://www.courtsystem.org/lily-ky-courts/   \n",
       "54005  http://www.flirtic.ee/polls/music/d5259a7d-4d2...   \n",
       "54068  http://www.flowerpictures1.com/r-lily-flowers-...   \n",
       "54072  http://www.flowerpictures1.com/r-lily-flowers-...   \n",
       "54076  http://www.flowerpictures1.com/r-lily-flowers-...   \n",
       "69405  http://www.nbcchicago.com/news/sports/Sochi-Wi...   \n",
       "\n",
       "                                             description  \n",
       "30094  Lily and the Snowman,   vagotanulo 2016, Short...  \n",
       "40776  I have around 100 Blood Lily (Haemanthus multi...  \n",
       "47467  Search Lily court records to access free publi...  \n",
       "54005                                                     \n",
       "54068  Free picture of Big Lily Flower Tattoo, Big Li...  \n",
       "54072  Free picture of Big Lily Flower Tattoo, Big Li...  \n",
       "54076  Free picture of Big Lily Flower Tattoo, Big Li...  \n",
       "69405  After helping the U.S. sweep the Olympics slop...  "
      ]
     },
     "execution_count": 36,
     "metadata": {},
     "output_type": "execute_result"
    }
   ],
   "source": [
    "data[['url', 'description']].loc[data['keywords'].isin(query.split(' '))] \n",
    "data[['url', 'description']].loc[data['keywords'].isin(['lily','cyrus'])] "
   ]
  },
  {
   "cell_type": "code",
   "execution_count": 18,
   "metadata": {
    "collapsed": false
   },
   "outputs": [
    {
     "data": {
      "text/html": [
       "<div>\n",
       "<style scoped>\n",
       "    .dataframe tbody tr th:only-of-type {\n",
       "        vertical-align: middle;\n",
       "    }\n",
       "\n",
       "    .dataframe tbody tr th {\n",
       "        vertical-align: top;\n",
       "    }\n",
       "\n",
       "    .dataframe thead th {\n",
       "        text-align: right;\n",
       "    }\n",
       "</style>\n",
       "<table border=\"1\" class=\"dataframe\">\n",
       "  <thead>\n",
       "    <tr style=\"text-align: right;\">\n",
       "      <th></th>\n",
       "      <th>url</th>\n",
       "      <th>keywords</th>\n",
       "      <th>title</th>\n",
       "      <th>description</th>\n",
       "    </tr>\n",
       "  </thead>\n",
       "  <tbody>\n",
       "    <tr>\n",
       "      <th>0</th>\n",
       "      <td>http://0lik.ru/cliparts/clipartfoto/128020-sto...</td>\n",
       "      <td>stock</td>\n",
       "      <td>Stock Photo - Panoramas of European Cities</td>\n",
       "      <td>8 SHQ JPEG | up to ~ 8200 x 5500 | 300 dpi | 1...</td>\n",
       "    </tr>\n",
       "    <tr>\n",
       "      <th>1</th>\n",
       "      <td>http://0lik.ru/cliparts/clipartfoto/128020-sto...</td>\n",
       "      <td>photo</td>\n",
       "      <td>Stock Photo - Panoramas of European Cities</td>\n",
       "      <td>8 SHQ JPEG | up to ~ 8200 x 5500 | 300 dpi | 1...</td>\n",
       "    </tr>\n",
       "    <tr>\n",
       "      <th>2</th>\n",
       "      <td>http://0lik.ru/cliparts/clipartfoto/128020-sto...</td>\n",
       "      <td>panoramas</td>\n",
       "      <td>Stock Photo - Panoramas of European Cities</td>\n",
       "      <td>8 SHQ JPEG | up to ~ 8200 x 5500 | 300 dpi | 1...</td>\n",
       "    </tr>\n",
       "    <tr>\n",
       "      <th>3</th>\n",
       "      <td>http://0lik.ru/cliparts/clipartfoto/128020-sto...</td>\n",
       "      <td>european</td>\n",
       "      <td>Stock Photo - Panoramas of European Cities</td>\n",
       "      <td>8 SHQ JPEG | up to ~ 8200 x 5500 | 300 dpi | 1...</td>\n",
       "    </tr>\n",
       "    <tr>\n",
       "      <th>4</th>\n",
       "      <td>http://0lik.ru/cliparts/clipartfoto/128020-sto...</td>\n",
       "      <td>cities</td>\n",
       "      <td>Stock Photo - Panoramas of European Cities</td>\n",
       "      <td>8 SHQ JPEG | up to ~ 8200 x 5500 | 300 dpi | 1...</td>\n",
       "    </tr>\n",
       "    <tr>\n",
       "      <th>5</th>\n",
       "      <td>http://0lik.ru/templates/othert/241992-3-real-...</td>\n",
       "      <td>real</td>\n",
       "      <td>3 Real Estate Business Card Templates PSD</td>\n",
       "      <td>3 Real Estate Business Card Templates PSD PSD ...</td>\n",
       "    </tr>\n",
       "    <tr>\n",
       "      <th>6</th>\n",
       "      <td>http://0lik.ru/templates/othert/241992-3-real-...</td>\n",
       "      <td>estate</td>\n",
       "      <td>3 Real Estate Business Card Templates PSD</td>\n",
       "      <td>3 Real Estate Business Card Templates PSD PSD ...</td>\n",
       "    </tr>\n",
       "    <tr>\n",
       "      <th>7</th>\n",
       "      <td>http://0lik.ru/templates/othert/241992-3-real-...</td>\n",
       "      <td>business</td>\n",
       "      <td>3 Real Estate Business Card Templates PSD</td>\n",
       "      <td>3 Real Estate Business Card Templates PSD PSD ...</td>\n",
       "    </tr>\n",
       "    <tr>\n",
       "      <th>8</th>\n",
       "      <td>http://0lik.ru/templates/othert/241992-3-real-...</td>\n",
       "      <td>card</td>\n",
       "      <td>3 Real Estate Business Card Templates PSD</td>\n",
       "      <td>3 Real Estate Business Card Templates PSD PSD ...</td>\n",
       "    </tr>\n",
       "    <tr>\n",
       "      <th>9</th>\n",
       "      <td>http://0lik.ru/templates/othert/241992-3-real-...</td>\n",
       "      <td>templates</td>\n",
       "      <td>3 Real Estate Business Card Templates PSD</td>\n",
       "      <td>3 Real Estate Business Card Templates PSD PSD ...</td>\n",
       "    </tr>\n",
       "  </tbody>\n",
       "</table>\n",
       "</div>"
      ],
      "text/plain": [
       "                                                 url   keywords  \\\n",
       "0  http://0lik.ru/cliparts/clipartfoto/128020-sto...      stock   \n",
       "1  http://0lik.ru/cliparts/clipartfoto/128020-sto...      photo   \n",
       "2  http://0lik.ru/cliparts/clipartfoto/128020-sto...  panoramas   \n",
       "3  http://0lik.ru/cliparts/clipartfoto/128020-sto...   european   \n",
       "4  http://0lik.ru/cliparts/clipartfoto/128020-sto...     cities   \n",
       "5  http://0lik.ru/templates/othert/241992-3-real-...       real   \n",
       "6  http://0lik.ru/templates/othert/241992-3-real-...     estate   \n",
       "7  http://0lik.ru/templates/othert/241992-3-real-...   business   \n",
       "8  http://0lik.ru/templates/othert/241992-3-real-...       card   \n",
       "9  http://0lik.ru/templates/othert/241992-3-real-...  templates   \n",
       "\n",
       "                                        title  \\\n",
       "0  Stock Photo - Panoramas of European Cities   \n",
       "1  Stock Photo - Panoramas of European Cities   \n",
       "2  Stock Photo - Panoramas of European Cities   \n",
       "3  Stock Photo - Panoramas of European Cities   \n",
       "4  Stock Photo - Panoramas of European Cities   \n",
       "5   3 Real Estate Business Card Templates PSD   \n",
       "6   3 Real Estate Business Card Templates PSD   \n",
       "7   3 Real Estate Business Card Templates PSD   \n",
       "8   3 Real Estate Business Card Templates PSD   \n",
       "9   3 Real Estate Business Card Templates PSD   \n",
       "\n",
       "                                         description  \n",
       "0  8 SHQ JPEG | up to ~ 8200 x 5500 | 300 dpi | 1...  \n",
       "1  8 SHQ JPEG | up to ~ 8200 x 5500 | 300 dpi | 1...  \n",
       "2  8 SHQ JPEG | up to ~ 8200 x 5500 | 300 dpi | 1...  \n",
       "3  8 SHQ JPEG | up to ~ 8200 x 5500 | 300 dpi | 1...  \n",
       "4  8 SHQ JPEG | up to ~ 8200 x 5500 | 300 dpi | 1...  \n",
       "5  3 Real Estate Business Card Templates PSD PSD ...  \n",
       "6  3 Real Estate Business Card Templates PSD PSD ...  \n",
       "7  3 Real Estate Business Card Templates PSD PSD ...  \n",
       "8  3 Real Estate Business Card Templates PSD PSD ...  \n",
       "9  3 Real Estate Business Card Templates PSD PSD ...  "
      ]
     },
     "execution_count": 18,
     "metadata": {},
     "output_type": "execute_result"
    }
   ],
   "source": [
    "for row in data[:10]"
   ]
  },
  {
   "cell_type": "code",
   "execution_count": 21,
   "metadata": {
    "collapsed": false
   },
   "outputs": [
    {
     "name": "stdout",
     "output_type": "stream",
     "text": [
      "stock\n",
      "Stock Photo - Panoramas of European Cities\n",
      "photo\n",
      "Stock Photo - Panoramas of European Cities\n",
      "panoramas\n",
      "Stock Photo - Panoramas of European Cities\n",
      "european\n",
      "Stock Photo - Panoramas of European Cities\n",
      "cities\n",
      "Stock Photo - Panoramas of European Cities\n",
      "real\n",
      "3 Real Estate Business Card Templates PSD\n",
      "estate\n",
      "3 Real Estate Business Card Templates PSD\n",
      "business\n",
      "3 Real Estate Business Card Templates PSD\n",
      "card\n",
      "3 Real Estate Business Card Templates PSD\n",
      "templates\n",
      "3 Real Estate Business Card Templates PSD\n"
     ]
    }
   ],
   "source": [
    "for index, row in data[:10].iterrows():\n",
    "    print row['keywords']\n",
    "    print row['title']"
   ]
  },
  {
   "cell_type": "code",
   "execution_count": 56,
   "metadata": {
    "collapsed": false
   },
   "outputs": [
    {
     "data": {
      "text/plain": [
       "array([ u'8 SHQ JPEG | up to ~ 8200 x 5500 | 300 dpi | 169 Mb RAR LetitBit.netVip-File.com  128020',\n",
       "       u'3 Real Estate Business Card Templates PSD PSD | AI | Font info | 7.69 MB 3 Real Estate Business Card Templates PSD PSD | AI | Font info | 7.69 MB Letitbit.net \\u0421\\u043a\\u0430\\u0447\\u0430\\u0442\\u044c 3 Real Estate Business   241992',\n",
       "       u'', ...,\n",
       "       u'OVE AKADEMSKE GODINE, 2010./2011. GOSTOVAT \\u0106E OVI PROFESORI IZ HRVATSKE: prof. dr. Mira MENAC MIHALI\\u0106, (Dijalektologija s akcentologijom hrvatskog jezika 1, 2), prof. dr. Marko SAMARD\\u017dIJA (Povijest hrvatkskog jezika (naglasak na 19. i 20. stolje\\u0107e), prof. dr. Stipe Botica i prof. dr. Jelena Lu\\u017eina\\xa0 (Kultura i civilizacija u Hrvata)... Sva su ta predavanja obvezna za&hellip;',\n",
       "       u'Fronzoli edoardiani, tipici della Belle \\xc9poque britannica, cappelli a larghe falde e mises da marinaio si mescolano nei looks della P/E 2010 della stilista neozelandese Karen Walker. Lo stile trae ispirazione dalla nota serie televisiva inglese degli anni &#039;60, &quot;The Prisoner&quot;, dove un ex-agente segreto del governo britannico viene imprigionato in un piccolo villaggio dallo&hellip;',\n",
       "       u'Ein Autorenblog, der meist politische, machmal auch wissenschaftliche und kulturelle Themen aus \\xfcberwiegend liberal-konservativer Sicht beleuchtet.'], dtype=object)"
      ]
     },
     "execution_count": 56,
     "metadata": {},
     "output_type": "execute_result"
    }
   ],
   "source": [
    "data['description'].unique()"
   ]
  },
  {
   "cell_type": "code",
   "execution_count": 72,
   "metadata": {
    "collapsed": false
   },
   "outputs": [
    {
     "data": {
      "text/plain": [
       "10"
      ]
     },
     "execution_count": 72,
     "metadata": {},
     "output_type": "execute_result"
    }
   ],
   "source": [
    "kw_data = data[['url', 'title', 'description']].loc[data['keywords'] == 'cities'][:10]\n",
    "len(kw_data['title'])"
   ]
  },
  {
   "cell_type": "code",
   "execution_count": 67,
   "metadata": {
    "collapsed": false
   },
   "outputs": [
    {
     "data": {
      "text/plain": [
       "4        http://0lik.ru/cliparts/clipartfoto/128020-sto...\n",
       "9835        http://distancebetween.in/from/Tiruchchirapali\n",
       "15582                       http://headshops.us/montana/e/\n",
       "22308    http://metabolismofcities.org/people/325-maria...\n",
       "22312    http://metabolismofcities.org/people/610-phili...\n",
       "23981             http://netindian.in/book/export/html/473\n",
       "48843    http://www.dentalby.com/endodontist-germany/de...\n",
       "49593         http://www.distancefromto.net/city-la-paz-ph\n",
       "49597    http://www.distancefromto.net/city-lancenigo-v...\n",
       "49604      http://www.distancefromto.net/city-port-st-mary\n",
       "80614    http://www.tcmaker.org/forum/viewtopic.php?p=7693\n",
       "83961     http://www.ubercities.us/uber-in-burning-fork-ky\n",
       "85595      http://www.w3-directory.com/events-Taichung.php\n",
       "Name: url, dtype: object"
      ]
     },
     "execution_count": 67,
     "metadata": {},
     "output_type": "execute_result"
    }
   ],
   "source": [
    "data['url'].loc[data['keywords'] == 'cities']"
   ]
  },
  {
   "cell_type": "code",
   "execution_count": 49,
   "metadata": {
    "collapsed": false
   },
   "outputs": [
    {
     "data": {
      "text/plain": [
       "4        http://0lik.ru/cliparts/clipartfoto/128020-sto...\n",
       "9835        http://distancebetween.in/from/Tiruchchirapali\n",
       "15582                       http://headshops.us/montana/e/\n",
       "22308    http://metabolismofcities.org/people/325-maria...\n",
       "22312    http://metabolismofcities.org/people/610-phili...\n",
       "23981             http://netindian.in/book/export/html/473\n",
       "48843    http://www.dentalby.com/endodontist-germany/de...\n",
       "49593         http://www.distancefromto.net/city-la-paz-ph\n",
       "49597    http://www.distancefromto.net/city-lancenigo-v...\n",
       "49604      http://www.distancefromto.net/city-port-st-mary\n",
       "80614    http://www.tcmaker.org/forum/viewtopic.php?p=7693\n",
       "83961     http://www.ubercities.us/uber-in-burning-fork-ky\n",
       "85595      http://www.w3-directory.com/events-Taichung.php\n",
       "Name: url, dtype: object"
      ]
     },
     "execution_count": 49,
     "metadata": {},
     "output_type": "execute_result"
    }
   ],
   "source": [
    "urls"
   ]
  },
  {
   "cell_type": "code",
   "execution_count": 48,
   "metadata": {
    "collapsed": false
   },
   "outputs": [
    {
     "name": "stdout",
     "output_type": "stream",
     "text": [
      "http://0lik.ru/cliparts/clipartfoto/128020-stock-photo-panoramas-of-european-cities.html\n",
      "http://distancebetween.in/from/Tiruchchirapali\n",
      "http://headshops.us/montana/e/\n",
      "http://metabolismofcities.org/people/325-mariane-planchon\n",
      "http://metabolismofcities.org/people/610-philippe-bouillard\n",
      "http://netindian.in/book/export/html/473\n",
      "http://www.dentalby.com/endodontist-germany/dentist-in-beller-8/\n",
      "http://www.distancefromto.net/city-la-paz-ph\n",
      "http://www.distancefromto.net/city-lancenigo-villorba-it\n",
      "http://www.distancefromto.net/city-port-st-mary\n",
      "http://www.tcmaker.org/forum/viewtopic.php?p=7693\n",
      "http://www.ubercities.us/uber-in-burning-fork-ky\n",
      "http://www.w3-directory.com/events-Taichung.php\n"
     ]
    }
   ],
   "source": [
    "for url in urls:\n",
    "    print url"
   ]
  },
  {
   "cell_type": "code",
   "execution_count": null,
   "metadata": {
    "collapsed": true
   },
   "outputs": [],
   "source": [
    "# no ads\n",
    "kw_path = '/Users/lxu213/data/ad-free-search-engine/spark-warehouse/output/part-00000-cce80d6f-9481-49c6-a24f-0ea08880f341-c000.snappy.parquet'\n",
    "data_adfree = pq.read_table(kw_path, nthreads=4).to_pandas()\n",
    "data_adfree.head()"
   ]
  },
  {
   "cell_type": "code",
   "execution_count": 30,
   "metadata": {
    "collapsed": false
   },
   "outputs": [
    {
     "data": {
      "text/html": [
       "<div>\n",
       "<style scoped>\n",
       "    .dataframe tbody tr th:only-of-type {\n",
       "        vertical-align: middle;\n",
       "    }\n",
       "\n",
       "    .dataframe tbody tr th {\n",
       "        vertical-align: top;\n",
       "    }\n",
       "\n",
       "    .dataframe thead th {\n",
       "        text-align: right;\n",
       "    }\n",
       "</style>\n",
       "<table border=\"1\" class=\"dataframe\">\n",
       "  <thead>\n",
       "    <tr style=\"text-align: right;\">\n",
       "      <th></th>\n",
       "      <th>url</th>\n",
       "      <th>keywords</th>\n",
       "    </tr>\n",
       "  </thead>\n",
       "  <tbody>\n",
       "    <tr>\n",
       "      <th>count</th>\n",
       "      <td>115170</td>\n",
       "      <td>115170</td>\n",
       "    </tr>\n",
       "    <tr>\n",
       "      <th>unique</th>\n",
       "      <td>22551</td>\n",
       "      <td>35387</td>\n",
       "    </tr>\n",
       "    <tr>\n",
       "      <th>top</th>\n",
       "      <td>https://www.bookrenter.com/linda-d-urden-dnsc-...</td>\n",
       "      <td>de</td>\n",
       "    </tr>\n",
       "    <tr>\n",
       "      <th>freq</th>\n",
       "      <td>20</td>\n",
       "      <td>901</td>\n",
       "    </tr>\n",
       "  </tbody>\n",
       "</table>\n",
       "</div>"
      ],
      "text/plain": [
       "                                                      url keywords\n",
       "count                                              115170   115170\n",
       "unique                                              22551    35387\n",
       "top     https://www.bookrenter.com/linda-d-urden-dnsc-...       de\n",
       "freq                                                   20      901"
      ]
     },
     "execution_count": 30,
     "metadata": {},
     "output_type": "execute_result"
    }
   ],
   "source": [
    "# with adwords in links\n",
    "data.describe()\n",
    "# without adwords in links > removed about 25% of web pages\n",
    "data_adfree.describe()"
   ]
  },
  {
   "cell_type": "markdown",
   "metadata": {},
   "source": [
    "Percent of crawled web pages that contain (detected) ad links:"
   ]
  },
  {
   "cell_type": "code",
   "execution_count": 27,
   "metadata": {
    "collapsed": false
   },
   "outputs": [
    {
     "data": {
      "text/plain": [
       "26"
      ]
     },
     "execution_count": 27,
     "metadata": {},
     "output_type": "execute_result"
    }
   ],
   "source": [
    "100 - (100*data_adfree.count()['url']/data.count()['url'])"
   ]
  },
  {
   "cell_type": "markdown",
   "metadata": {},
   "source": [
    "### Flask\n",
    "http://flask.pocoo.org/\n",
    "\n",
    "Build simple search GUI and use sample parquet files to build a search page given some search keyword."
   ]
  },
  {
   "cell_type": "code",
   "execution_count": 70,
   "metadata": {
    "collapsed": true
   },
   "outputs": [],
   "source": [
    "from flask import Flask\n",
    "app = Flask(__name__)\n",
    "\n",
    "@app.route(\"/\")\n",
    "def hello():\n",
    "    return \"Hello World!\"\n",
    "\n",
    "if __name__ == \"__main__\":\n",
    "    app.run(host='0.0.0.0')"
   ]
  },
  {
   "cell_type": "code",
   "execution_count": null,
   "metadata": {
    "collapsed": true
   },
   "outputs": [],
   "source": [
    "$ cd data/ad-free-search-engine/\n",
    "$ . venv/bin/activate\n",
    "$ deactivate "
   ]
  }
 ],
 "metadata": {
  "kernelspec": {
   "display_name": "Python 2",
   "language": "python",
   "name": "python2"
  },
  "language_info": {
   "codemirror_mode": {
    "name": "ipython",
    "version": 2
   },
   "file_extension": ".py",
   "mimetype": "text/x-python",
   "name": "python",
   "nbconvert_exporter": "python",
   "pygments_lexer": "ipython2",
   "version": "2.7.13"
  }
 },
 "nbformat": 4,
 "nbformat_minor": 0
}
